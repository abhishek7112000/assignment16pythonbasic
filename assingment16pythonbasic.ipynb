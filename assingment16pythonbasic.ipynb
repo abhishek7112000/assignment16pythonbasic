{
 "cells": [
  {
   "cell_type": "code",
   "execution_count": null,
   "id": "25190845-4f6a-4a25-864c-09d1f739f288",
   "metadata": {},
   "outputs": [],
   "source": [
    "1. Create a list called years_list, starting with the year of your birth, and each year thereafter until\n",
    "the year of your fifth birthday. For example, if you were born in 1980. the list would be years_list =\n",
    "[1980, 1981, 1982, 1983, 1984, 1985]."
   ]
  },
  {
   "cell_type": "code",
   "execution_count": null,
   "id": "c4b89734-6bdf-459a-988d-58a1d45032dd",
   "metadata": {},
   "outputs": [],
   "source": [
    "ans-years_list = [ele for ele in range(1997,1997+6)]\n",
    "print(years_list)\n",
    "[1997, 1998, 1999, 2000, 2001, 2002]"
   ]
  },
  {
   "cell_type": "code",
   "execution_count": null,
   "id": "8cfced35-31c3-42e8-8753-9ac1fa99d2c8",
   "metadata": {},
   "outputs": [],
   "source": [
    "2. In which year in years_list was your third birthday? Remember, you were 0 years of age for your\n",
    "first year."
   ]
  },
  {
   "cell_type": "code",
   "execution_count": null,
   "id": "c596d7aa-fd91-4d0f-b4e1-61dbc00257c9",
   "metadata": {},
   "outputs": [],
   "source": [
    "ans-print(years_list[3])\n",
    "2000"
   ]
  },
  {
   "cell_type": "code",
   "execution_count": null,
   "id": "951956b8-1166-465f-9885-79f143a4ec6a",
   "metadata": {},
   "outputs": [],
   "source": [
    "3.In the years list, which year were you the oldest?"
   ]
  },
  {
   "cell_type": "code",
   "execution_count": null,
   "id": "5aa76680-368a-4f57-bb9b-5d0e1e9039a3",
   "metadata": {},
   "outputs": [],
   "source": [
    "ans-print(years_list[-1])\n",
    "2002"
   ]
  },
  {
   "cell_type": "code",
   "execution_count": null,
   "id": "18d8b70d-815a-4b37-89f5-11f236e6faa0",
   "metadata": {},
   "outputs": [],
   "source": [
    "4. Make a list called things with these three strings as elements: &quot;mozzarella&quot;, &quot;cinderella&quot;,\n",
    "&quot;salmonella&quot;."
   ]
  },
  {
   "cell_type": "code",
   "execution_count": null,
   "id": "874c790a-79e9-4a45-9ed3-c2b4eadcc198",
   "metadata": {},
   "outputs": [],
   "source": [
    "ans-things = [ele+'ella' for ele in ['mozzar','cinder','salmon']]\n",
    "print(things)\n",
    "['mozzarella', 'cinderella', 'salmonella']"
   ]
  },
  {
   "cell_type": "code",
   "execution_count": null,
   "id": "076f09a6-7a30-4238-a537-0e1e9dd9a173",
   "metadata": {},
   "outputs": [],
   "source": [
    "5. Capitalize the element in things that refers to a person and then print the list. Did it change the\n",
    "element in the list?"
   ]
  },
  {
   "cell_type": "code",
   "execution_count": null,
   "id": "91f5b6c5-79e4-4fd3-a2e8-4b54301243ea",
   "metadata": {},
   "outputs": [],
   "source": [
    "ans-for ele in range(len(things)):\n",
    "    if things[ele] == 'cinderella':\n",
    "        things[ele] = things[ele].capitalize()\n",
    "print(things)\n",
    "['mozzarella', 'Cinderella', 'salmonella']"
   ]
  },
  {
   "cell_type": "code",
   "execution_count": null,
   "id": "66926aee-5187-4bbd-9b25-fcff70e8e281",
   "metadata": {},
   "outputs": [],
   "source": [
    "6. Make a surprise list with the elements &quot;Groucho,&quot; &quot;Chico,&quot; and &quot;Harpo.&quot;"
   ]
  },
  {
   "cell_type": "code",
   "execution_count": null,
   "id": "86ea6da1-1f5c-475c-84b8-5294943b8528",
   "metadata": {},
   "outputs": [],
   "source": [
    "ans-suprise_list = ['Groucho','Chico','Harpo']\n",
    "print(suprise_list)\n",
    "['Groucho', 'Chico', 'Harpo']"
   ]
  },
  {
   "cell_type": "code",
   "execution_count": null,
   "id": "9df61b74-9fc9-4a3e-a3c7-1c729a6354ee",
   "metadata": {},
   "outputs": [],
   "source": [
    "7. Lowercase the last element of the surprise list, reverse it, and then capitalize it."
   ]
  },
  {
   "cell_type": "code",
   "execution_count": null,
   "id": "f4c3a998-a654-4654-9861-401e87cd5e54",
   "metadata": {},
   "outputs": [],
   "source": [
    "ans-print(suprise_list[-1].lower()[::-1].capitalize())\n",
    "Oprah"
   ]
  },
  {
   "cell_type": "code",
   "execution_count": null,
   "id": "8837186c-33f8-4a13-aff5-a1075b928a4c",
   "metadata": {},
   "outputs": [],
   "source": [
    "8. Make an English-to-French dictionary called e2f and print it. Here are your starter words: dog is\n",
    "chien, cat is chat, and walrus is morse."
   ]
  },
  {
   "cell_type": "code",
   "execution_count": null,
   "id": "fab5f664-f2d6-4078-9721-88e08b5b2cc2",
   "metadata": {},
   "outputs": [],
   "source": [
    "ans-e2f = {'dog':'chien','cat':'chat','walrus':'morse'}\n",
    "print(e2f)\n",
    "{'dog': 'chien', 'cat': 'chat', 'walrus': 'morse'}"
   ]
  },
  {
   "cell_type": "code",
   "execution_count": null,
   "id": "54dde57c-8f1d-4da5-b832-7eb7569c4e00",
   "metadata": {},
   "outputs": [],
   "source": [
    "9. Write the French word for walrus in your three-word dictionary e2f."
   ]
  },
  {
   "cell_type": "code",
   "execution_count": null,
   "id": "e2aa405f-98f3-4575-a127-cdf6534693f0",
   "metadata": {},
   "outputs": [],
   "source": [
    "ans-print(e2f.get('walrus'))\n",
    "morse"
   ]
  },
  {
   "cell_type": "code",
   "execution_count": null,
   "id": "e9a1a6b8-b85a-493f-a204-29b166312f38",
   "metadata": {},
   "outputs": [],
   "source": [
    "10. Make a French-to-English dictionary called f2e from e2f. Use the items method."
   ]
  },
  {
   "cell_type": "code",
   "execution_count": null,
   "id": "5e00d020-6e66-4560-afc5-b8c3078272de",
   "metadata": {},
   "outputs": [],
   "source": [
    "ans-f2e = dict([ele[::-1] for ele in e2f.items()])\n",
    "print(f2e)\n",
    "{'chien': 'dog', 'chat': 'cat', 'morse': 'walrus'}"
   ]
  },
  {
   "cell_type": "code",
   "execution_count": null,
   "id": "056c2370-ed2e-4ff8-bbdf-445c1d95abb6",
   "metadata": {},
   "outputs": [],
   "source": [
    "11. Print the English version of the French word chien using f2e."
   ]
  },
  {
   "cell_type": "code",
   "execution_count": null,
   "id": "1c7dffdb-fcb1-405e-b9c1-244b5706b96c",
   "metadata": {},
   "outputs": [],
   "source": [
    "ans-print(f2e.get('chien'))\n",
    "dog"
   ]
  },
  {
   "cell_type": "code",
   "execution_count": null,
   "id": "55eaf964-7a69-4403-b6bd-43afba4c558e",
   "metadata": {},
   "outputs": [],
   "source": [
    "12. Make and print a set of English words from the keys in e2f."
   ]
  },
  {
   "cell_type": "code",
   "execution_count": null,
   "id": "be5456c2-fbd7-4e1c-ab25-33510ec9e9a5",
   "metadata": {},
   "outputs": [],
   "source": [
    "ans-print(list(e2f.keys()))\n",
    "['dog', 'cat', 'walrus']"
   ]
  },
  {
   "cell_type": "code",
   "execution_count": null,
   "id": "36c283da-a9c7-4d31-badc-d72f20780e36",
   "metadata": {},
   "outputs": [],
   "source": [
    "13. Make a multilevel dictionary called life. Use these strings for the topmost keys: &#39;animals&#39;, &#39;plants&#39;,\n",
    "and &#39;other&#39;. Make the &#39;animals&#39; key refer to another dictionary with the keys &#39;cats&#39;, &#39;octopi&#39;, and\n",
    "&#39;emus&#39;. Make the &#39;cats&#39; key refer to a list of strings with the values &#39;Henri&#39;, &#39;Grumpy&#39;, and &#39;Lucy&#39;.\n",
    "Make all the other keys refer to empty dictionaries."
   ]
  },
  {
   "cell_type": "code",
   "execution_count": null,
   "id": "933a8a01-c7bc-420e-a5e6-28af38a5418a",
   "metadata": {},
   "outputs": [],
   "source": [
    "ans-life = {\n",
    "    'animals':{\n",
    "        'cats':['Henri','Grumpy','Lucy'],\n",
    "        'octopi':{},\n",
    "        'emus':{}\n",
    "    },\n",
    "    'plants':{},\n",
    "    'other':{}\n",
    "}\n",
    "print(life)\n",
    "{'animals': {'cats': ['Henri', 'Grumpy', 'Lucy'], 'octopi': {}, 'emus': {}}, 'plants': {}, 'other': {}}"
   ]
  },
  {
   "cell_type": "code",
   "execution_count": null,
   "id": "d75457be-2bfe-4692-9ba8-b7077146b1e9",
   "metadata": {},
   "outputs": [],
   "source": [
    "14. Print the top-level keys of life."
   ]
  },
  {
   "cell_type": "code",
   "execution_count": null,
   "id": "cdacc710-7ba4-4cb7-ac77-512d993d4a61",
   "metadata": {},
   "outputs": [],
   "source": [
    "ans-print(list(life.keys()))\n",
    "['animals', 'plants', 'other']"
   ]
  },
  {
   "cell_type": "code",
   "execution_count": null,
   "id": "eed2f2cb-0f54-4d3a-b6d8-a3c652bac60e",
   "metadata": {},
   "outputs": [],
   "source": [
    "15. Print the keys for life[animals]."
   ]
  },
  {
   "cell_type": "code",
   "execution_count": null,
   "id": "0135c0ff-bd32-4e1b-b857-c213f1352643",
   "metadata": {},
   "outputs": [],
   "source": [
    "ans-"
   ]
  }
 ],
 "metadata": {
  "kernelspec": {
   "display_name": "Python 3 (ipykernel)",
   "language": "python",
   "name": "python3"
  },
  "language_info": {
   "codemirror_mode": {
    "name": "ipython",
    "version": 3
   },
   "file_extension": ".py",
   "mimetype": "text/x-python",
   "name": "python",
   "nbconvert_exporter": "python",
   "pygments_lexer": "ipython3",
   "version": "3.10.6"
  }
 },
 "nbformat": 4,
 "nbformat_minor": 5
}
